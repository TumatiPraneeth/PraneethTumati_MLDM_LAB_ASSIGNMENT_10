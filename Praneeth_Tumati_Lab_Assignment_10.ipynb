{
  "nbformat": 4,
  "nbformat_minor": 0,
  "metadata": {
    "colab": {
      "name": "Praneeth_Tumati_Lab_Assignment_10.ipynb",
      "provenance": [],
      "collapsed_sections": [],
      "authorship_tag": "ABX9TyM6mXGWK+z/UGhGeGYGfL7w",
      "include_colab_link": true
    },
    "kernelspec": {
      "name": "python3",
      "display_name": "Python 3"
    }
  },
  "cells": [
    {
      "cell_type": "markdown",
      "metadata": {
        "id": "view-in-github",
        "colab_type": "text"
      },
      "source": [
        "<a href=\"https://colab.research.google.com/github/TumatiPraneeth/PraneethTumati_MLDM_LAB_ASSIGNMENT_10/blob/master/Praneeth_Tumati_Lab_Assignment_10.ipynb\" target=\"_parent\"><img src=\"https://colab.research.google.com/assets/colab-badge.svg\" alt=\"Open In Colab\"/></a>"
      ]
    },
    {
      "cell_type": "markdown",
      "metadata": {
        "id": "Cyy-14q-mE7n",
        "colab_type": "text"
      },
      "source": [
        "**Name:**Tumati Naga Praneeth\n",
        "**enrollment number:**1700282C203\n",
        "**CLASS:**CSE-2\n"
      ]
    },
    {
      "cell_type": "code",
      "metadata": {
        "id": "VJ6ney--mEKi",
        "colab_type": "code",
        "outputId": "daab333f-9970-47d9-b6da-efb6b9a34691",
        "colab": {
          "base_uri": "https://localhost:8080/",
          "height": 51
        }
      },
      "source": [
        "#question1\n",
        "import numpy as np\n",
        "\n",
        "\n",
        "moves = [1,2,3,4,5,6]\n",
        "prob = [0.2,0.3,0.2,0.1,0.1,0.1]\n",
        "\n",
        "def rollDice():\n",
        "    current_move = np.random.choice(a= moves , p = prob)\n",
        "    return int(current_move) \n",
        "\n",
        "Iterations = 10000\n",
        "down_movement = [1,2]\n",
        "up_movement = [3,4,5]\n",
        "successful_iterations = 0\n",
        "selected6 = 0\n",
        "for i in range (0,Iterations): \n",
        "    total_steps = 250\n",
        "    current_position = 0\n",
        "    selected6 = 0\n",
        "    completedMoves = 0\n",
        "    while completedMoves < total_steps:\n",
        "        completedMoves +=1\n",
        "        if(current_position > 60):\n",
        "            successful_iterations+=1\n",
        "            break\n",
        "        current_movement = rollDice()\n",
        "        if(current_movement in  down_movement):\n",
        "            current_position -=1\n",
        "        elif current_movement in up_movement :\n",
        "            current_position +=1    \n",
        "        else  :#current movement  = 6\n",
        "            completedMoves -=1\n",
        "            current_movement = rollDice()\n",
        "            current_position += current_movement\n",
        "        \n",
        "probabilty_of_reaching = successful_iterations/Iterations\n",
        "print(successful_iterations)\n",
        "print(probabilty_of_reaching)"
      ],
      "execution_count": 5,
      "outputs": [
        {
          "output_type": "stream",
          "text": [
            "4296\n",
            "0.4296\n"
          ],
          "name": "stdout"
        }
      ]
    },
    {
      "cell_type": "markdown",
      "metadata": {
        "id": "DPhuV9FGohZd",
        "colab_type": "text"
      },
      "source": [
        "Problem 2)Randomly generated data for Multiple Linear Regression,Logistic Regression,K-means Clustering :"
      ]
    },
    {
      "cell_type": "code",
      "metadata": {
        "id": "uRK0Gb1Qog3_",
        "colab_type": "code",
        "outputId": "5af4abdf-f809-4a57-d417-4cce1ebc8e8a",
        "colab": {
          "base_uri": "https://localhost:8080/",
          "height": 595
        }
      },
      "source": [
        "#question2\n",
        "import numpy as np\n",
        "import pandas as pd\n",
        "import scipy\n",
        "import random\n",
        "from scipy.stats import norm\n",
        "random.seed(1)\n",
        "n_features_of_Multiple_linear = 4 #declaring the number of features required for multiple linear.\n",
        "\n",
        "X = []\n",
        "\n",
        "for i in range(n_features_of_Multiple_linear):\n",
        "  X_i = scipy.stats.norm.rvs(0, 1, 100)\n",
        "  X.append(X_i)# creating the values to be stored in X.\n",
        "eps = scipy.stats.norm.rvs(0, 0.25,100)\n",
        "y = 1 + (0.5 * X[0]) + eps + (0.4 * X[1]) + (0.3 * X[2]) + (0.5 * X[3])\n",
        "data_multiplelinear = {'X0': X[0],'X1':X[1],'X2':X[2],'X3':X[3],'Y': y }\n",
        "df = pd.DataFrame(data_multiplelinear)#dataframe created.\n",
        "print(df.head())\n",
        "print(df.tail())\n",
        "print(df.info())\n",
        "print(df.describe())\n",
        "\n",
        "\n",
        "\n"
      ],
      "execution_count": 7,
      "outputs": [
        {
          "output_type": "stream",
          "text": [
            "         X0        X1        X2        X3         Y\n",
            "0  1.115776  0.442165  2.023871 -0.956984  1.936260\n",
            "1  0.873560 -1.799875 -0.252810  0.349109  0.813800\n",
            "2 -1.270745 -0.050980 -0.601719  0.006422  0.277504\n",
            "3 -1.005667 -0.696950 -2.196211  0.305718 -0.240504\n",
            "4 -0.277740  1.094075  0.601929 -0.233852  1.149810\n",
            "          X0        X1        X2        X3         Y\n",
            "95  0.783093 -0.520701  0.230284 -0.415045  0.863528\n",
            "96  0.430597 -0.238881  0.666279  1.936787  2.094166\n",
            "97  0.655682  0.184762  0.607088 -0.374511  1.301554\n",
            "98 -0.736831 -0.826871 -0.813514 -1.302334 -0.542288\n",
            "99 -0.784254 -0.061177  0.333634  0.181559  0.895314\n",
            "<class 'pandas.core.frame.DataFrame'>\n",
            "RangeIndex: 100 entries, 0 to 99\n",
            "Data columns (total 5 columns):\n",
            " #   Column  Non-Null Count  Dtype  \n",
            "---  ------  --------------  -----  \n",
            " 0   X0      100 non-null    float64\n",
            " 1   X1      100 non-null    float64\n",
            " 2   X2      100 non-null    float64\n",
            " 3   X3      100 non-null    float64\n",
            " 4   Y       100 non-null    float64\n",
            "dtypes: float64(5)\n",
            "memory usage: 4.0 KB\n",
            "None\n",
            "               X0          X1          X2          X3           Y\n",
            "count  100.000000  100.000000  100.000000  100.000000  100.000000\n",
            "mean     0.107522   -0.131259   -0.084836    0.211785    1.119433\n",
            "std      1.089243    1.034280    0.960887    1.003462    0.991200\n",
            "min     -2.594025   -2.522783   -2.671070   -2.101229   -1.523483\n",
            "25%     -0.622268   -0.784104   -0.602102   -0.443492    0.454866\n",
            "50%      0.126201   -0.181720   -0.062108    0.079269    1.091417\n",
            "75%      0.772626    0.586326    0.603219    0.766914    1.764315\n",
            "max      2.695134    2.970286    2.528562    2.476213    3.683486\n"
          ],
          "name": "stdout"
        }
      ]
    },
    {
      "cell_type": "code",
      "metadata": {
        "id": "TviJr__-y-P5",
        "colab_type": "code",
        "outputId": "fd855146-d8f1-43b3-800c-aedd120b6b68",
        "colab": {
          "base_uri": "https://localhost:8080/",
          "height": 595
        }
      },
      "source": [
        "n_features_of_logistic_regression = 4#logistic model Feature required\n",
        "X = []\n",
        "for i in range(n_features_of_logistic_regression):\n",
        "  X_i = scipy.stats.norm.rvs(0, 1, 100)\n",
        "  X.append(X_i)\n",
        "a1 = (np.exp(1 + (0.5 * X[0]) + (0.4 * X[1]) + (0.3 * X[2]) + (0.5 * X[3]))/(1 + np.exp(1 + (0.5 * X[0]) + (0.4 * X[1]) + (0.3 * X[2]) + (0.5 * X[3]))))\n",
        "y1 = []\n",
        "for i in a1:\n",
        "  if (i>=0.5):\n",
        "    y1.append(1)\n",
        "  else:\n",
        "    y1.append(0)\n",
        "data_lr = {'X0': X[0],'X1':X[1],'X2':X[2],'X3':X[3],'Y': y1 }\n",
        "df1 = pd.DataFrame(data_lr)\n",
        "print(df.head())\n",
        "print(df.tail())\n",
        "print(df.info())\n",
        "print(df.describe())"
      ],
      "execution_count": 8,
      "outputs": [
        {
          "output_type": "stream",
          "text": [
            "         X0        X1        X2        X3         Y\n",
            "0  1.115776  0.442165  2.023871 -0.956984  1.936260\n",
            "1  0.873560 -1.799875 -0.252810  0.349109  0.813800\n",
            "2 -1.270745 -0.050980 -0.601719  0.006422  0.277504\n",
            "3 -1.005667 -0.696950 -2.196211  0.305718 -0.240504\n",
            "4 -0.277740  1.094075  0.601929 -0.233852  1.149810\n",
            "          X0        X1        X2        X3         Y\n",
            "95  0.783093 -0.520701  0.230284 -0.415045  0.863528\n",
            "96  0.430597 -0.238881  0.666279  1.936787  2.094166\n",
            "97  0.655682  0.184762  0.607088 -0.374511  1.301554\n",
            "98 -0.736831 -0.826871 -0.813514 -1.302334 -0.542288\n",
            "99 -0.784254 -0.061177  0.333634  0.181559  0.895314\n",
            "<class 'pandas.core.frame.DataFrame'>\n",
            "RangeIndex: 100 entries, 0 to 99\n",
            "Data columns (total 5 columns):\n",
            " #   Column  Non-Null Count  Dtype  \n",
            "---  ------  --------------  -----  \n",
            " 0   X0      100 non-null    float64\n",
            " 1   X1      100 non-null    float64\n",
            " 2   X2      100 non-null    float64\n",
            " 3   X3      100 non-null    float64\n",
            " 4   Y       100 non-null    float64\n",
            "dtypes: float64(5)\n",
            "memory usage: 4.0 KB\n",
            "None\n",
            "               X0          X1          X2          X3           Y\n",
            "count  100.000000  100.000000  100.000000  100.000000  100.000000\n",
            "mean     0.107522   -0.131259   -0.084836    0.211785    1.119433\n",
            "std      1.089243    1.034280    0.960887    1.003462    0.991200\n",
            "min     -2.594025   -2.522783   -2.671070   -2.101229   -1.523483\n",
            "25%     -0.622268   -0.784104   -0.602102   -0.443492    0.454866\n",
            "50%      0.126201   -0.181720   -0.062108    0.079269    1.091417\n",
            "75%      0.772626    0.586326    0.603219    0.766914    1.764315\n",
            "max      2.695134    2.970286    2.528562    2.476213    3.683486\n"
          ],
          "name": "stdout"
        }
      ]
    },
    {
      "cell_type": "code",
      "metadata": {
        "id": "QGs0AUNw3QAP",
        "colab_type": "code",
        "outputId": "961390d9-183b-4750-a0ec-c09787a7e53f",
        "colab": {
          "base_uri": "https://localhost:8080/",
          "height": 843
        }
      },
      "source": [
        "#Random data for clustering (k)\n",
        "X_p= -2 * np.random.rand(100,2)\n",
        "X_q = 1 + 2 * np.random.rand(50,2)\n",
        "X_p[50:100, :] = X_q\n",
        "plt.scatter(X_p[ : , 0], X_p[ :, 1], s = 50)\n",
        "plt.show()\n",
        "data_kmeans = {'X0': X_a[:,0],'X1':X_a[:,1]}\n",
        "df3 = pd.DataFrame(data_kmeans)\n",
        "print(df.head())\n",
        "print(df.tail())\n",
        "print(df.info())\n",
        "print(df.describe())"
      ],
      "execution_count": 14,
      "outputs": [
        {
          "output_type": "display_data",
          "data": {
            "image/png": "[encoded data removed]",
            "text/plain": [
              "<Figure size 432x288 with 1 Axes>"
            ]
          },
          "metadata": {
            "tags": [],
            "needs_background": "light"
          }
        },
        {
          "output_type": "stream",
          "text": [
            "         X0        X1        X2        X3         Y\n",
            "0  1.115776  0.442165  2.023871 -0.956984  1.936260\n",
            "1  0.873560 -1.799875 -0.252810  0.349109  0.813800\n",
            "2 -1.270745 -0.050980 -0.601719  0.006422  0.277504\n",
            "3 -1.005667 -0.696950 -2.196211  0.305718 -0.240504\n",
            "4 -0.277740  1.094075  0.601929 -0.233852  1.149810\n",
            "          X0        X1        X2        X3         Y\n",
            "95  0.783093 -0.520701  0.230284 -0.415045  0.863528\n",
            "96  0.430597 -0.238881  0.666279  1.936787  2.094166\n",
            "97  0.655682  0.184762  0.607088 -0.374511  1.301554\n",
            "98 -0.736831 -0.826871 -0.813514 -1.302334 -0.542288\n",
            "99 -0.784254 -0.061177  0.333634  0.181559  0.895314\n",
            "<class 'pandas.core.frame.DataFrame'>\n",
            "RangeIndex: 100 entries, 0 to 99\n",
            "Data columns (total 5 columns):\n",
            " #   Column  Non-Null Count  Dtype  \n",
            "---  ------  --------------  -----  \n",
            " 0   X0      100 non-null    float64\n",
            " 1   X1      100 non-null    float64\n",
            " 2   X2      100 non-null    float64\n",
            " 3   X3      100 non-null    float64\n",
            " 4   Y       100 non-null    float64\n",
            "dtypes: float64(5)\n",
            "memory usage: 4.0 KB\n",
            "None\n",
            "               X0          X1          X2          X3           Y\n",
            "count  100.000000  100.000000  100.000000  100.000000  100.000000\n",
            "mean     0.107522   -0.131259   -0.084836    0.211785    1.119433\n",
            "std      1.089243    1.034280    0.960887    1.003462    0.991200\n",
            "min     -2.594025   -2.522783   -2.671070   -2.101229   -1.523483\n",
            "25%     -0.622268   -0.784104   -0.602102   -0.443492    0.454866\n",
            "50%      0.126201   -0.181720   -0.062108    0.079269    1.091417\n",
            "75%      0.772626    0.586326    0.603219    0.766914    1.764315\n",
            "max      2.695134    2.970286    2.528562    2.476213    3.683486\n"
          ],
          "name": "stdout"
        }
      ]
    },
    {
      "cell_type": "markdown",
      "metadata": {
        "id": "tmFyhNem479O",
        "colab_type": "text"
      },
      "source": [
        "**Problem3:**Implementation of Linear Regression using Gradient Descent,Logistic Regression using Gradient Descent, Linear Regression with L1 and L2 Regularization, Logistic Regression with  L1 and L2 Regularization,K-Means"
      ]
    },
    {
      "cell_type": "code",
      "metadata": {
        "id": "Z317_HtK47kg",
        "colab_type": "code",
        "outputId": "9973c883-3a4d-478d-e702-48fda5d8ce12",
        "colab": {
          "base_uri": "https://localhost:8080/",
          "height": 51
        }
      },
      "source": [
        "#question3\n",
        "#linear regression using gradient descent\n",
        "print(\"linear regrission parameters using gradient descent are:\" )\n",
        "X = df.iloc[:,0].values\n",
        "y = df.iloc[:,4].values\n",
        "b1 = 0\n",
        "b0 = 0\n",
        "l = 0.001\n",
        "epochs = 100\n",
        " \n",
        "n = float(len(X))\n",
        "for i in range(epochs):\n",
        "  y_p = b1*X + b0\n",
        "  loss = np.sum(y_p - y1)**2\n",
        "  d1 = (-2/n) * sum(X * (y - y_p))\n",
        "  d0 = (-2/n) * sum(y - y_p)\n",
        "  b1 = b1 - (l*d1)\n",
        "  b0 = b0 - (l*d0)\n",
        "              \n",
        "print(b1,b0)#b1,b0 are the predicted constants to the equation"
      ],
      "execution_count": 15,
      "outputs": [
        {
          "output_type": "stream",
          "text": [
            "linear regrission parameters using gradient descent are:\n",
            "0.12695184597757767 0.20177911427018505\n"
          ],
          "name": "stdout"
        }
      ]
    },
    {
      "cell_type": "code",
      "metadata": {
        "id": "ZIqhjH7a8YBD",
        "colab_type": "code",
        "outputId": "d129831f-5503-4978-fdce-5fbe72310d5a",
        "colab": {
          "base_uri": "https://localhost:8080/",
          "height": 204
        }
      },
      "source": [
        "#logistic regression using gradient descent\n",
        "print(\"from logistic using gradient descent are\")\n",
        "X1 = df1.iloc[:,0:4].values\n",
        "y1 = df1.iloc[:,4].values\n",
        "def sigmoid(Z):\n",
        "  return 1 /(1+np.exp(-Z))\n",
        "def loss(y1,y_hat):\n",
        "  return -np.mean(y1*np.log(y_hat) + (1-y1)*(np.log(1-y_hat)))\n",
        "W = np.zeros((4,1))\n",
        "b = np.zeros((1,1))\n",
        "m = len(y1)\n",
        "lr = 0.001\n",
        "for epoch in range(1000):\n",
        "  Z = np.matmul(X1,W)+b\n",
        "  A = sigmoid(Z)\n",
        "  logistic_loss = loss(y1,A)\n",
        "  dz = A - y1\n",
        "  dw = 1/m * np.matmul(X1.T,dz)\n",
        "  db = np.sum(dz)\n",
        "  W = W - lr*dw\n",
        "  b = b - lr*db\n",
        "  if epoch % 100 == 0:\n",
        "    print(logistic_loss)"
      ],
      "execution_count": 17,
      "outputs": [
        {
          "output_type": "stream",
          "text": [
            "from logistic using gradient descent are\n",
            "0.6931471805599453\n",
            "0.25318648962897633\n",
            "0.25273961767072667\n",
            "0.25229833793635603\n",
            "0.2518626607370973\n",
            "0.2514325980547191\n",
            "0.2510081632298061\n",
            "0.2505893706440734\n",
            "0.2501762353979384\n",
            "0.2497687729847441\n"
          ],
          "name": "stdout"
        }
      ]
    },
    {
      "cell_type": "markdown",
      "metadata": {
        "id": "s9FwNC9SBZKb",
        "colab_type": "text"
      },
      "source": [
        "**Linear Regression using L1 and L2 regularization:**"
      ]
    },
    {
      "cell_type": "code",
      "metadata": {
        "id": "2eIp5YtzBO0m",
        "colab_type": "code",
        "outputId": "cd835c37-97ff-4d04-ecde-0bcc1d7d9f8a",
        "colab": {
          "base_uri": "https://localhost:8080/",
          "height": 119
        }
      },
      "source": [
        "print(\"Linear regression using L1 regularisation\")\n",
        "X = df.iloc[:,0].values\n",
        "y = df.iloc[:,4].values\n",
        "b1 = 0\n",
        "b0 = 0\n",
        "l = 0.001\n",
        "epochs = 100\n",
        "lam = 0.1\n",
        "n = float(len(X))\n",
        "for i in range(epochs):\n",
        "  y_p = b1*X + b0\n",
        "  loss = np.sum(y_p - y1)**2 + (lam * b1)\n",
        "  d1 = (-2/n) * sum(X * (y - y_p)) + lam\n",
        "  d0 = (-2/n) * sum(y - y_p)\n",
        "  b1 = b1 - (l*d1)\n",
        "  b0 = b0 - (l*d0)\n",
        "print(b1,b0,\"are the parameters obtained of L1 regularisation\")\n",
        "print()\n",
        "\n",
        "print(\"Linear regression using L2 regularisation\")\n",
        "X = df.iloc[:,0].values\n",
        "#print(X)\n",
        "y = df.iloc[:,4].values\n",
        "b1 = 0\n",
        "b0 = 0\n",
        "l = 0.001\n",
        "epochs = 100\n",
        "lam = 0.1\n",
        "n = float(len(X))\n",
        "for i in range(epochs):\n",
        "  y_p = b1*X + b0\n",
        "  loss = np.sum(y_p - y1)**2 + ((lam/2) * b1)\n",
        "  d1 = (-2/n) * sum(X * (y - y_p)) + (lam *b1)\n",
        "  d0 = (-2/n) * sum(y - y_p)\n",
        "  b1 = b1 - (l*d1)\n",
        "  b0 = b0 - (l*d0)\n",
        "print(b1,b0,\"are the parameters obtained of L2 regularisation\")\n",
        "print()\n"
      ],
      "execution_count": 18,
      "outputs": [
        {
          "output_type": "stream",
          "text": [
            "Linear regression using L1 regularisation\n",
            "0.11803950017078525 0.2018715072834019 are the parameters obtained of L1 regularisation\n",
            "\n",
            "Linear regression using L2 regularisation\n",
            "0.12634581363879765 0.2017833476416372 are the parameters obtained of L2 regularisation\n",
            "\n"
          ],
          "name": "stdout"
        }
      ]
    },
    {
      "cell_type": "markdown",
      "metadata": {
        "id": "GGUQAkY-CRZQ",
        "colab_type": "text"
      },
      "source": [
        "**Logistic Regression using L1 and L2 Regularization**"
      ]
    },
    {
      "cell_type": "code",
      "metadata": {
        "id": "T5E6xn4YCRqi",
        "colab_type": "code",
        "outputId": "0b217471-592b-45d3-a00b-d7190aed53fd",
        "colab": {
          "base_uri": "https://localhost:8080/",
          "height": 442
        }
      },
      "source": [
        "print(\"Logistic regression using L1 regularisation\")\n",
        "X1 = df1.iloc[:,0:4].values\n",
        "y1 = df1.iloc[:,4].values\n",
        "lam = 0.1\n",
        "def sigmoid(Z):\n",
        "  return 1 /(1+np.exp(-Z))\n",
        "\n",
        "def loss(y1,y_hat):\n",
        "  return -np.mean(y1*np.log(y_hat) + (1-y1)*(np.log(1-y_hat))) + (lam * (np.sum(W)))\n",
        "\n",
        "W = np.zeros((4,1))\n",
        "b = np.zeros((1,1))\n",
        "\n",
        "m = len(y1)\n",
        "lr = 0.001\n",
        "for epoch in range(1000):\n",
        "  Z = np.matmul(X1,W)+b\n",
        "  A = sigmoid(Z)\n",
        "  logistic_loss = loss(y1,A)\n",
        "  dz = A - y1\n",
        "  dw = 1/m * np.matmul(X1.T,dz) + lam\n",
        "  db = np.sum(dz)\n",
        "\n",
        "  W = W - lr*dw\n",
        "  b = b - lr*db\n",
        "\n",
        "  if epoch % 100 == 0:\n",
        "    print(\"logistic loss occured\",logistic_loss)\n",
        "\n",
        "print()\n",
        "print()\n",
        "print()\n",
        "print(\"Logistic regression using L2 regularisation\")\n",
        "X1 = df1.iloc[:,0:4].values\n",
        "y1 = df1.iloc[:,4].values\n",
        "lam = 0.1\n",
        "def sigmoid(Z):\n",
        "  return 1 /(1+np.exp(-Z))\n",
        "\n",
        "def loss(y1,y_hat):\n",
        "  return -np.mean(y1*np.log(y_hat) + (1-y1)*(np.log(1-y_hat))) + (lam * (np.sum(np.square(W))))\n",
        "\n",
        "W = np.zeros((4,1))\n",
        "b = np.zeros((1,1))\n",
        "\n",
        "m = len(y1)\n",
        "lr = 0.001\n",
        "for epoch in range(1000):\n",
        "  Z = np.matmul(X1,W)+b\n",
        "  A = sigmoid(Z)\n",
        "  logistic_loss = loss(y1,A)\n",
        "  dz = A - y1\n",
        "  dw = 1/m * np.matmul(X1.T,dz) + lam * W\n",
        "  db = np.sum(dz)\n",
        "\n",
        "  W = W - lr*dw\n",
        "  b = b - lr*db\n",
        "\n",
        "  if epoch % 100 == 0:\n",
        "    print(\"Logistic loss occured:\",logistic_loss,)"
      ],
      "execution_count": 19,
      "outputs": [
        {
          "output_type": "stream",
          "text": [
            "Logistic regression using L1 regularisation\n",
            "logistic loss occured 0.6931471805599453\n",
            "logistic loss occured -0.14457229268292582\n",
            "logistic loss occured -0.5420035039092344\n",
            "logistic loss occured -0.9374171978427812\n",
            "logistic loss occured -1.3308197960917192\n",
            "logistic loss occured -1.7222176376324925\n",
            "logistic loss occured -2.1116170128053704\n",
            "logistic loss occured -2.499024203797419\n",
            "logistic loss occured -2.8844455312588626\n",
            "logistic loss occured -3.2678874064951224\n",
            "\n",
            "\n",
            "\n",
            "Logistic regression using L2 regularisation\n",
            "Logistic loss occured: 0.6931471805599453\n",
            "Logistic loss occured: 0.25363678027137815\n",
            "Logistic loss occured: 0.25451186072548476\n",
            "Logistic loss occured: 0.2562219952561201\n",
            "Logistic loss occured: 0.25872622868613393\n",
            "Logistic loss occured: 0.26198485103762775\n",
            "Logistic loss occured: 0.2659593625295551\n",
            "Logistic loss occured: 0.270612441321454\n",
            "Logistic loss occured: 0.2759079137568816\n",
            "Logistic loss occured: 0.2818107268670077\n"
          ],
          "name": "stdout"
        }
      ]
    },
    {
      "cell_type": "markdown",
      "metadata": {
        "id": "pd8XUX2kDPna",
        "colab_type": "text"
      },
      "source": [
        "**K-means Clustering:**"
      ]
    },
    {
      "cell_type": "code",
      "metadata": {
        "id": "sxsMqet5DTYY",
        "colab_type": "code",
        "outputId": "09fce9c7-e5f8-4c53-8f09-96a0dd12520e",
        "colab": {
          "base_uri": "https://localhost:8080/",
          "height": 265
        }
      },
      "source": [
        "class K_Means:\n",
        "    def __init__(self, k=2, tol=0.001, max_iter=300):\n",
        "        self.k = k\n",
        "        self.tol = tol\n",
        "        self.max_iter = max_iter\n",
        "\n",
        "    def fit(self,data):\n",
        "\n",
        "        self.centroids = {}\n",
        "\n",
        "        for i in range(self.k):\n",
        "            self.centroids[i] = data[i]\n",
        "\n",
        "        for i in range(self.max_iter):\n",
        "            self.classifications = {}\n",
        "\n",
        "            for i in range(self.k):\n",
        "                self.classifications[i] = []\n",
        "\n",
        "            for featureset in X:\n",
        "                distances = [np.linalg.norm(featureset-self.centroids[centroid]) for centroid in self.centroids]\n",
        "                classification = distances.index(min(distances))\n",
        "                self.classifications[classification].append(featureset)\n",
        "\n",
        "            prev_centroids = dict(self.centroids)\n",
        "\n",
        "            for classification in self.classifications:\n",
        "                self.centroids[classification] = np.average(self.classifications[classification],axis=0)\n",
        "\n",
        "            optimized = True\n",
        "\n",
        "            for c in self.centroids:\n",
        "                original_centroid = prev_centroids[c]\n",
        "                current_centroid = self.centroids[c]\n",
        "                if np.sum((current_centroid-original_centroid)/original_centroid*100.0) > self.tol:\n",
        "                    print(np.sum((current_centroid-original_centroid)/original_centroid*100.0))\n",
        "                    optimized = False\n",
        "\n",
        "            if optimized:\n",
        "                break\n",
        "\n",
        "    def predict(self,data):\n",
        "        distances = [np.linalg.norm(data-self.centroids[centroid]) for centroid in self.centroids]\n",
        "        classification = distances.index(min(distances))\n",
        "        return classification\n",
        "        \n",
        "colors = 10*[\"g\",\"r\",\"c\",\"b\",\"k\"]\n",
        "X = df3.iloc[:,0:2].values\n",
        "clf = K_Means()\n",
        "clf.fit(X)\n",
        "\n",
        "for centroid in clf.centroids:\n",
        "    plt.scatter(clf.centroids[centroid][0], clf.centroids[centroid][1],\n",
        "                marker=\"o\", color=\"k\", s=150, linewidths=5)\n",
        "\n",
        "for classification in clf.classifications:\n",
        "    color = colors[classification]\n",
        "    for featureset in clf.classifications[classification]:\n",
        "        plt.scatter(featureset[0], featureset[1], marker=\"x\", color=color, s=150, linewidths=5)"
      ],
      "execution_count": 20,
      "outputs": [
        {
          "output_type": "display_data",
          "data": {
            "image/png": "[encoded data removed]",
            "text/plain": [
              "<Figure size 432x288 with 1 Axes>"
            ]
          },
          "metadata": {
            "tags": [],
            "needs_background": "light"
          }
        }
      ]
    },
    {
      "cell_type": "markdown",
      "metadata": {
        "id": "nh_LC8oGECNp",
        "colab_type": "text"
      },
      "source": [
        "**Using OOPS Concept:**\n"
      ]
    },
    {
      "cell_type": "code",
      "metadata": {
        "id": "CxPZOQPfEMy9",
        "colab_type": "code",
        "colab": {}
      },
      "source": [
        "#question4\n",
        "#linear Regression using oops Concept:\n",
        "import numpy as np\n",
        "\n",
        "class LinearRegressionModel():\n",
        "\n",
        "    def __init__(self, dataset, learning_rate, num_iterations):\n",
        "        self.dataset = np.array(dataset)\n",
        "        self.b = 0  \n",
        "        self.m = 0  \n",
        "        self.learning_rate = learning_rate\n",
        "        self.num_iterations = num_iterations\n",
        "        self.M = len(self.dataset)\n",
        "        self.total_error = 0\n",
        "\n",
        "    def apply_gradient_descent(self):\n",
        "        for i in range(self.num_iterations):\n",
        "            self.do_gradient_step()\n",
        "\n",
        "    def do_gradient_step(self):\n",
        "        b_summation = 0\n",
        "        m_summation = 0\n",
        "        for i in range(self.M):\n",
        "            x_value = self.dataset[i, 0]\n",
        "            y_value = self.dataset[i, 1]\n",
        "            b_summation += (((self.m * x_value) + self.b) - y_value) \n",
        "            m_summation += (((self.m * x_value) + self.b) - y_value) * x_value\n",
        "        self.b = self.b - (self.learning_rate * (1/self.M) * b_summation)\n",
        "        self.m = self.m - (self.learning_rate * (1/self.M) * m_summation)\n",
        "      \n",
        "    def compute_error(self):\n",
        "        for i in range(self.M):\n",
        "            x_value = self.dataset[i, 0]\n",
        "            y_value = self.dataset[i, 1]\n",
        "            self.total_error += ((self.m * x_value) + self.b) - y_value\n",
        "        return self.total_error\n",
        "\n",
        "    def __str__(self):\n",
        "        return \"Results: b: {}, m: {}, Final Total error: {}\".format(round(self.b, 2), round(self.m, 2), round(self.compute_error(), 2))\n",
        "\n",
        "    def get_prediction_based_on(self, x):\n",
        "        return round(float((self.m * x) + self.b), 2) # Type: Numpy float.\n",
        "\n",
        "def main():\n",
        "    school_dataset = np.genfromtxt(DATASET_PATH, delimiter=\",\")\n",
        "    lr = LinearRegressionModel(school_dataset, 0.0001, 1000)\n",
        "    lr.apply_gradient_descent()\n",
        "    no_of_hours = [10, 20, 30, 40, 50, 60, 70, 80, 90, 100]\n",
        "    for hour in hours:\n",
        "        print(\"Worked hours {} hours and got {} bonus.\".format(hour, lr.get_prediction_based_on(hour)))\n",
        "    print(lr)\n",
        "\n",
        "if __name__ == \"__main__\": main()"
      ],
      "execution_count": 0,
      "outputs": []
    },
    {
      "cell_type": "markdown",
      "metadata": {
        "id": "NvQcmjlbH8Aq",
        "colab_type": "text"
      },
      "source": [
        "Logistic regression:"
      ]
    },
    {
      "cell_type": "code",
      "metadata": {
        "id": "2f2HBqF5G6Sa",
        "colab_type": "code",
        "colab": {}
      },
      "source": [
        "class LogisticRegression:\n",
        "  def __init__(self, learning_rate, num_iters, fit_intercept = True, verbose = False):\n",
        "    self.learning_rate = learning_rate\n",
        "    self.num_iters = num_iters\n",
        "    self.fit_intercept = fit_intercept\n",
        "    self.verbose = verbose\n",
        "  def __add_intercept(self, X):\n",
        "    intercept = np.ones((X.shape[0],1))\n",
        "    return np.concatenate((intercept,X),axis=1)\n",
        "  def __sigmoid(self,z):\n",
        "    return 1/(1+np.exp(-z))\n",
        "  def __loss(self, h, y):\n",
        "    return (-y * np.log(h) - (1-y) * np.log(1-h)).mean()\n",
        "  \n",
        "  def fit(self,X,y):\n",
        "    if self.fit_intercept:\n",
        "      X = self.__add_intercept(X)\n",
        "    self.theta = np.zeros(X.shape[1])\n",
        "    \n",
        "    for i in range(self.num_iters):\n",
        "      z = np.dot(X,self.theta)\n",
        "      h = self.__sigmoid(z)\n",
        "      gradient = np.dot(X.T,(h-y))/y.size\n",
        "      \n",
        "      self.theta -= self.learning_rate * gradient\n",
        "      \n",
        "      z = np.dot(X,self.theta)\n",
        "      h = self.__sigmoid(z)\n",
        "      loss = self.__loss(h,y)\n",
        "      \n",
        "      if self.verbose == True and i % 1000 == 0:\n",
        "        print(f'Loss: {loss}\\t')\n",
        "  def predict_probability(self,X):\n",
        "    if self.fit_intercept:\n",
        "      X = self.__add_intercept(X)\n",
        "    return self.__sigmoid(np.dot(X,self.theta))\n",
        "  def predict(self,X):\n",
        "    return (self.predict_probability(X).round())"
      ],
      "execution_count": 0,
      "outputs": []
    },
    {
      "cell_type": "code",
      "metadata": {
        "id": "zj5_oG8-H_rM",
        "colab_type": "code",
        "colab": {}
      },
      "source": [
        "#K means from scratch using oops\n",
        "class K_Means:\n",
        "    def __init__(self, k=2, tol=0.001, max_iter=300):\n",
        "        self.k = k\n",
        "        self.tol = tol\n",
        "        self.max_iter = max_iter\n",
        "\n",
        "    def fit(self,data):\n",
        "\n",
        "        self.centroids = {}\n",
        "\n",
        "        for i in range(self.k):\n",
        "            self.centroids[i] = data[i]\n",
        "\n",
        "        for i in range(self.max_iter):\n",
        "            self.classifications = {}\n",
        "\n",
        "            for i in range(self.k):\n",
        "                self.classifications[i] = []\n",
        "\n",
        "            for featureset in X:\n",
        "                distances = [np.linalg.norm(featureset-self.centroids[centroid]) for centroid in self.centroids]\n",
        "                classification = distances.index(min(distances))\n",
        "                self.classifications[classification].append(featureset)\n",
        "\n",
        "            prev_centroids = dict(self.centroids)\n",
        "\n",
        "            for classification in self.classifications:\n",
        "                self.centroids[classification] = np.average(self.classifications[classification],axis=0)\n",
        "\n",
        "            optimized = True\n",
        "\n",
        "            for c in self.centroids:\n",
        "                original_centroid = prev_centroids[c]\n",
        "                current_centroid = self.centroids[c]\n",
        "                if np.sum((current_centroid-original_centroid)/original_centroid*100.0) > self.tol:\n",
        "                    print(np.sum((current_centroid-original_centroid)/original_centroid*100.0))\n",
        "                    optimized = False\n",
        "\n",
        "            if optimized:\n",
        "                break\n",
        "\n",
        "    def predict(self,data):\n",
        "        distances = [np.linalg.norm(data-self.centroids[centroid]) for centroid in self.centroids]\n",
        "        classification = distances.index(min(distances))\n",
        "        return classification\n",
        "        \n",
        "colors = 10*[\"g\",\"r\",\"c\",\"b\",\"k\"]"
      ],
      "execution_count": 0,
      "outputs": []
    }
  ]
}